{
 "cells": [
  {
   "cell_type": "code",
   "execution_count": null,
   "metadata": {
    "collapsed": true
   },
   "outputs": [],
   "source": [
    "# STEP 2: Lesson retriever\n",
    "\n",
    "Scrapes the content from each lesson page and creates subdirectories as necessary."
   ]
  },
  {
   "cell_type": "code",
   "execution_count": 1,
   "metadata": {
    "collapsed": true
   },
   "outputs": [],
   "source": [
    "import json\n",
    "import os\n",
    "import re\n",
    "\n",
    "from bs4 import BeautifulSoup\n",
    "from html2text import html2text\n",
    "import requests\n",
    "\n",
    "from ricecooker.utils.caching import CacheForeverHeuristic, FileCache, CacheControlAdapter\n",
    "\n",
    "from mitblossoms_chef import scraping_step, MitBlossomsVideoLessonResource, _build_json_tree\n",
    "\n",
    "DATA_DIR='chefdata'"
   ]
  },
  {
   "cell_type": "code",
   "execution_count": 2,
   "metadata": {
    "collapsed": true
   },
   "outputs": [],
   "source": [
    "web_resource_tree = None\n",
    "with open(os.path.join(DATA_DIR, 'web_resource_tree.json')) as json_file:\n",
    "    web_resource_tree = json.load(json_file)\n",
    "\n",
    "vid_rcrs_data = web_resource_tree['children'][0]['children'][3]['children'][10]\n",
    "vid_rcrs = MitBlossomsVideoLessonResource(vid_rcrs_data)"
   ]
  },
  {
   "cell_type": "markdown",
   "metadata": {
    "collapsed": true
   },
   "source": [
    "### Testing MitBlossomsVideoLessonResource object attributes"
   ]
  },
  {
   "cell_type": "code",
   "execution_count": 3,
   "metadata": {},
   "outputs": [
    {
     "data": {
      "text/plain": [
       "'/var/folders/k3/r74jr38d56v717n39fd073f80000gn/T/tmpitthj8qz.zip'"
      ]
     },
     "execution_count": 3,
     "metadata": {},
     "output_type": "execute_result"
    }
   ],
   "source": [
    "vid_rcrs.get_additional_resources_zip()\n"
   ]
  },
  {
   "cell_type": "code",
   "execution_count": null,
   "metadata": {
    "collapsed": true
   },
   "outputs": [],
   "source": []
  },
  {
   "cell_type": "code",
   "execution_count": 4,
   "metadata": {},
   "outputs": [
    {
     "data": {
      "text/plain": [
       "[{'file_name': 'averages-transcript.pdf',\n",
       "  'file_url': 'https://blossoms.mit.edu/sites/default/files/video/transcript/averages-transcript.pdf',\n",
       "  'title': 'Written Transcript of this video lesson in English'}]"
      ]
     },
     "execution_count": 4,
     "metadata": {},
     "output_type": "execute_result"
    }
   ],
   "source": [
    "vid_rcrs.get_transcripts()"
   ]
  },
  {
   "cell_type": "code",
   "execution_count": null,
   "metadata": {
    "collapsed": true
   },
   "outputs": [],
   "source": []
  },
  {
   "cell_type": "code",
   "execution_count": 5,
   "metadata": {},
   "outputs": [
    {
     "data": {
      "text/plain": [
       "[('English',\n",
       "  '//d1baxxa0joomi3.cloudfront.net/d0ef3356da0c8f47afdff5bbe4694ebf/basic.mp4'),\n",
       " ('English-Arabic Subtitles',\n",
       "  '//d1baxxa0joomi3.cloudfront.net/e76d7a9d506205b7ce54b36d40580de6/basic.mp4'),\n",
       " ('Arabic Voice-over',\n",
       "  '//d1baxxa0joomi3.cloudfront.net/69ff39b896b52fc2acaa4a3b338a5f44/basic.mp4'),\n",
       " ('Urdu Voice-over',\n",
       "  '//d1baxxa0joomi3.cloudfront.net/c4d13d85e317c5f6c7e590883b5cd9e7/basic.mp4'),\n",
       " ('English-Portuguese Subtitles',\n",
       "  '//d1baxxa0joomi3.cloudfront.net/d9bf794c1a3da508737aa134916d15bc/basic.mp4'),\n",
       " ('Mandarin Voice-over',\n",
       "  '//d1baxxa0joomi3.cloudfront.net/538b06d6924db6fe854328c49b1d3087/basic.mp4')]"
      ]
     },
     "execution_count": 5,
     "metadata": {},
     "output_type": "execute_result"
    }
   ],
   "source": [
    "# vid_rcrs.get_teacher_resources()\n",
    "vid_rcrs.get_video_urls()"
   ]
  },
  {
   "cell_type": "code",
   "execution_count": 6,
   "metadata": {},
   "outputs": [
    {
     "data": {
      "text/plain": [
       "[('English', 'https://blossoms.mit.edu/download/6904'),\n",
       " ('English-Arabic Subtitles', 'https://blossoms.mit.edu/download/6893'),\n",
       " ('Arabic Voice-over', 'https://blossoms.mit.edu/download/6896'),\n",
       " ('Urdu Voice-over', 'https://blossoms.mit.edu/download/6898'),\n",
       " ('English-Portuguese Subtitles', 'https://blossoms.mit.edu/download/6901'),\n",
       " ('Mandarin Voice-over', 'https://blossoms.mit.edu/download/7980')]"
      ]
     },
     "execution_count": 6,
     "metadata": {},
     "output_type": "execute_result"
    }
   ],
   "source": [
    "vid_rcrs.get_video_urls_alt()"
   ]
  },
  {
   "cell_type": "code",
   "execution_count": 7,
   "metadata": {},
   "outputs": [
    {
     "data": {
      "text/plain": [
       "'//d1baxxa0joomi3.cloudfront.net/d9bf794c1a3da508737aa134916d15bc/basic.mp4'"
      ]
     },
     "execution_count": 7,
     "metadata": {},
     "output_type": "execute_result"
    }
   ],
   "source": [
    "vid_rcrs.get_video_url_for_lang('English')"
   ]
  },
  {
   "cell_type": "code",
   "execution_count": null,
   "metadata": {
    "collapsed": true
   },
   "outputs": [],
   "source": []
  },
  {
   "cell_type": "code",
   "execution_count": 3,
   "metadata": {
    "scrolled": false
   },
   "outputs": [
    {
     "name": "stdout",
     "output_type": "stream",
     "text": [
      "Processing language Arabic\n",
      "     Processing Topic Biology\n",
      "         Processing TopicCluster: DNA\n",
      "             Classifying Animals by Appearance Versus DNA Sequence\n",
      "         Processing TopicCluster: Evolution\n",
      "             Classifying Animals by Appearance Versus DNA Sequence\n",
      "         Processing TopicCluster: Health\n",
      "             Discovering Medicines, Using Robots and Computers\n",
      "             The Disease of Our Time: Diabetes\n",
      "         Processing TopicCluster: Environmental Sustainability\n",
      "             How Does Biotechnology Help Clean Up The Environment?\n",
      "             Plants and Environmental Resources\n",
      "         Processing TopicCluster: Botany\n",
      "             Plants and Environmental Resources\n",
      "             Roots, Shoots, and Wood\n",
      "             Yeasts, Molds and Mushrooms\n",
      "         Methods for Protein Purification\n",
      "         The Construction of Proteins\n",
      "         The Olive Propagation Problem\n",
      "         The Respiratory System of Birds\n",
      "         Wind and Sand\n",
      "\n",
      "     Processing Topic Chemistry\n",
      "         Processing TopicCluster: Environmental Sustainability\n",
      "             Sustainable Energy: Can Water be the Future Fuel?\n",
      "         Catalytic Converter\n",
      "         How Much Small Is Small?\n",
      "No transcript for https://blossoms.mit.edu/videos/lessons/there_connection_between_water_desalination_and_making_pickles\n",
      "         Is There a Connection between Water Desalination and Making Pickles?\n",
      "         Plastics and Covalent Chemical Bonds\n",
      "         Why Are the Sky Blue and the Leaves Green?\n",
      "\n",
      "     Processing Topic Engineering\n",
      "         Processing TopicCluster: Computer Programming\n",
      "             The Magic Picture: Steganography in Bitmap Files\n",
      "         Processing TopicCluster: Geometry\n",
      "             Using Geometry to Design Simple Machines\n",
      "\n",
      "     Processing Topic Mathematics\n",
      "         Processing TopicCluster: Mathematical Sequences\n",
      "             Amazing Problems: Arithmetic and Geometric Sequences\n",
      "         Processing TopicCluster: Geometry\n",
      "             Are Random Triangles Acute or Obtuse?\n",
      "             Pythagoras and the Juice Seller\n",
      "             The Broken Stick Experiment: Triangles, Random Numbers and Probability\n",
      "             The Geometry of Parabolic Sand Dunes\n",
      "             Why Beehive Honeycombs Have a Hexagonal Shape\n",
      "         Processing TopicCluster: Probability\n",
      "             Are Random Triangles Acute or Obtuse?\n",
      "             Is Bigger Better? A Look at a Selection Bias that Is All Around Us\n",
      "             The Broken Stick Experiment: Triangles, Random Numbers and Probability\n",
      "         Processing TopicCluster: Graph Theory\n",
      "             Connections in the Plane without Crossing\n",
      "             Selfish Drivers: The Braess Paradox and Traffic Planning\n",
      "             Taking Walks, Delivering Mail: An Introduction to Graph Theory\n",
      "             The Mailman and the Five Packages: Data Packets and Data Transfer Speed\n",
      "         Processing TopicCluster: Health\n",
      "             Flu Math Games\n",
      "         Processing TopicCluster: Pythagorean Theorem\n",
      "             Pythagoras and the Juice Seller\n",
      "         Processing TopicCluster: Computer Programming\n",
      "             Sorting Algorithms\n",
      "             The Mailman and the Five Packages: Data Packets and Data Transfer Speed\n",
      "         Arabesque: Where Art Meets Mathematics\n",
      "         Counting Systems\n",
      "         Fabulous Fractals and Difference Equations\n",
      "         Flaws of Averages\n",
      "         Probability Theory\n",
      "         The Art of Approximation in Science and Engineering: How to Whip Out Answers Quickly\n",
      "         The Mathematics of Voting\n",
      "         The Pythagorean Theorem: Application and Proof\n",
      "\n",
      "     Processing Topic Physics\n",
      "         Can Earthquakes Be Predicted?\n",
      "         Fingerprinting Gravity\n",
      "         Plasma: the Fourth State of Matter\n",
      "         Static Equilibrium\n",
      "         Static and Kinetic Friction Forces: Similarities and Differences\n",
      "         The Physics of Racing Cars\n",
      "         Uniform Circular Motion and Centrifugal Force\n",
      "\n",
      "\n",
      "Processing language English\n",
      "     Processing Topic Biology\n",
      "         Processing TopicCluster: Human Anatomy\n",
      "             ATP: The Fuel of Life\n",
      "             Antioxidant Enzymes: Three or Four Veggies a Day Keeps Aging Away\n",
      "             Blood: The Stuff of Life\n",
      "             What’s in an Eye?  The Eye’s Components and the Diseases that Affect Them\n",
      "         Processing TopicCluster: Environmental Sustainability\n",
      "             Biotechnology: Can It Help in Making the Desert Green?\n",
      "No transcript for https://blossoms.mit.edu/videos/lessons/ecological_tipping_points_when_late_too_late\n",
      "             Ecological Tipping Points: When Is Late Too Late?\n",
      "             How Does Biotechnology Help Clean Up The Environment?\n",
      "             Plants and Environmental Resources\n",
      "             The Ecological Cost of Dinner\n",
      "         Processing TopicCluster: DNA\n",
      "             Chemotherapy Resistance: The Fault in Our Cells\n",
      "             Classifying Animals by Appearance Versus DNA Sequence\n",
      "             Discovering Genes Associated with Diseases and Traits in Dogs\n",
      "             From Teenage to Old Age: How Cancer Develops Over Time\n",
      "             Making It Personal: Using DNA to Tailor Cancer Treatments\n",
      "             The Case of the Stolen Painting: A Forensic Mystery\n",
      "             Tissue Specific Gene Expression\n",
      "             Using DNA to Identify People\n",
      "             You Can’t Always Get What You Want: A Lesson in Human Evolution\n",
      "         Processing TopicCluster: Health\n",
      "             Chemotherapy Resistance: The Fault in Our Cells\n",
      "             Discovering Medicines, Using Robots and Computers\n",
      "             From Teenage to Old Age: How Cancer Develops Over Time\n",
      "             Making It Personal: Using DNA to Tailor Cancer Treatments\n",
      "             The Disease of Our Time: Diabetes\n",
      "             What’s in an Eye?  The Eye’s Components and the Diseases that Affect Them\n",
      "         Processing TopicCluster: Evolution\n",
      "             Classifying Animals by Appearance Versus DNA Sequence\n",
      "             Meet the Family: Investigating Primate Relationships\n",
      "             The Case of the Stolen Painting: A Forensic Mystery\n",
      "             You Can’t Always Get What You Want: A Lesson in Human Evolution\n",
      "         Processing TopicCluster: Botany\n",
      "             Plants and Environmental Resources\n",
      "             Pollination: Saying It with Flowers\n",
      "             Roots, Shoots, and Wood\n",
      "             The Case of the Stolen Painting: A Forensic Mystery\n",
      "         Evolving for Survival: Learning about Fluid Dynamics through the Urinary System of Mammals\n",
      "         Geologic Time: The Ticking of Our Planet’s 4.6 Billion Year Clock\n",
      "         How Scientific Teams Develop New Anti-Cancer Drugs\n",
      "No transcript for https://blossoms.mit.edu/videos/lessons/i_am_novice_marathoner_sources_energy_big_race\n",
      "         I Am a Novice Marathoner: Sources of Energy for the Big Race\n",
      "         Methods for Protein Purification\n",
      "         The Construction of Proteins\n",
      "         The Genetic Basis of Inheritance and Variation\n",
      "         The King of Dinosaurs or a Chicken Dinner? One Paleontologist’s Quest to Activate Atavistic Genes and Create a Dinosaur\n",
      "         The Respiratory System of Birds\n",
      "\n",
      "     Processing Topic Chemistry\n",
      "         Processing TopicCluster: Chemistry Mole\n",
      "No transcript for https://blossoms.mit.edu/videos/lessons/amount_substance_and_its_unit_mole_connecting_invisible_micro_world_observable_macro_\n",
      "             Amount of Substance and Its Unit, Mole: Connecting the Invisible Micro World to the Observable Macro World\n",
      "             How Big Is a Mole? Do We Really Comprehend Avogadro’s Number?\n",
      "             Stoichiometry\n",
      "         Processing TopicCluster: Environmental Sustainability\n",
      "No transcript for https://blossoms.mit.edu/videos/lessons/introducing_green_chemistry_science_solutions\n",
      "             Introducing Green Chemistry: The Science of Solutions\n",
      "             Sustainable Energy: Can Water be the Future Fuel?\n",
      "No transcript for https://blossoms.mit.edu/videos/lessons/adsorption_using_tamarind_fruit_adsorbent_effluent_treatment\n",
      "         Adsorption: Using the Tamarind Fruit as an Adsorbent for Effluent Treatment\n",
      "         Electrochemistry: Electroplating\n",
      "No transcript for https://blossoms.mit.edu/videos/lessons/how_cold_cold_examining_properties_materials_lower_temperatures\n",
      "         How Cold Is Cold: Examining the Properties of Materials at Lower Temperatures\n",
      "         How Cold is Cold: What is Temperature?\n"
     ]
    },
    {
     "name": "stdout",
     "output_type": "stream",
     "text": [
      "         How Hot Is Hot? Heat versus Temperature\n",
      "         How Much Small Is Small?\n",
      "No transcript for https://blossoms.mit.edu/videos/lessons/there_connection_between_water_desalination_and_making_pickles\n",
      "         Is There a Connection between Water Desalination and Making Pickles?\n",
      "         Plastics and Covalent Chemical Bonds\n",
      "         Recognizing Chemical Reactions\n",
      "         Save Our Kingdom (in relation to the chemistry topic - Conservation of Mass)\n",
      "         Why Are the Sky Blue and the Leaves Green?\n",
      "         Why Neutralize? Impact on Health and the Environment\n",
      "\n",
      "     Processing Topic Engineering\n",
      "         Processing TopicCluster: Computer Programming\n",
      "             Building Cryptosystems\n",
      "             From Psychology to Logic: Learning Computer Programming in the Kitchen\n",
      "             Is There A Connection Between Computer Network Topologies And A Malaysian Wedding?\n",
      "             Out for Shopping: Understanding Linear Data Structures\n",
      "             The Magic Picture: Steganography in Bitmap Files\n",
      "         Processing TopicCluster: Graph Theory\n",
      "             Is There A Connection Between Computer Network Topologies And A Malaysian Wedding?\n",
      "         Processing TopicCluster: Geometry\n",
      "             Using Geometry to Design Simple Machines\n",
      "         Engineering Innovation and Entrepreneurship\n",
      "         Quantifying the Energy Associated with Everyday Things and Events\n",
      "No transcript for https://blossoms.mit.edu/videos/lessons/temperature_pressure_and_american_football_introduction_gay_lussacs_gas_law\n",
      "         Temperature, Pressure and American Football: Introduction to Gay-Lussac's Gas Law\n",
      "         The Art of Making Layer Cakes: Proper Construction of Bituminous Roads and Highways\n",
      "         The Stroboscopic Effect\n",
      "         Thermodynamics: Energy Conversion in Generating Electricity\n",
      "\n",
      "     Processing Topic Mathematics\n",
      "         Processing TopicCluster: Mathematical Sequences\n",
      "             Amazing Problems: Arithmetic and Geometric Sequences\n",
      "             The Power of Exponentials, Big and Small\n",
      "         Processing TopicCluster: Geometry\n",
      "             Are Random Triangles Acute or Obtuse?\n",
      "             How to Estimate the Value of Pi\n",
      "             Pythagoras and the Juice Seller\n",
      "             The Broken Stick Experiment: Triangles, Random Numbers and Probability\n",
      "             The Geometry of Parabolic Sand Dunes\n",
      "             The Pythagorean Theorem: Geometry’s Most Elegant Theorem\n",
      "             Why Beehive Honeycombs Have a Hexagonal Shape\n",
      "         Processing TopicCluster: Probability\n",
      "             Are Random Triangles Acute or Obtuse?\n",
      "             Is Bigger Better? A Look at a Selection Bias that Is All Around Us\n",
      "             The Broken Stick Experiment: Triangles, Random Numbers and Probability\n",
      "             The Monty Hall Problem or How to Outsmart a Game Show and Win a Car\n",
      "         Processing TopicCluster: Graph Theory\n",
      "             Connections in the Plane without Crossing\n",
      "             Selfish Drivers: The Braess Paradox and Traffic Planning\n",
      "             Taking Walks, Delivering Mail: An Introduction to Graph Theory\n",
      "No transcript for https://blossoms.mit.edu/videos/lessons/friendship_paradox_why_we_can%E2%80%99t_all_be_popular\n",
      "             The Friendship Paradox: Why We Can’t All Be Popular\n",
      "             The Mailman and the Five Packages: Data Packets and Data Transfer Speed\n",
      "             Who Do You Know? The Theory Behind Social Networking\n",
      "         Processing TopicCluster: Health\n",
      "             Flu Math Games\n",
      "         Processing TopicCluster: Mathematical Induction\n",
      "             Guess the Last Ball: An Exercise in Mathematical Modeling\n",
      "             The Towers of Hanoi: Experiential Recursive Thinking\n",
      "         Processing TopicCluster: Computer Programming\n",
      "             Optimizing Your Diet: What Linear Programming Can Tell You!\n",
      "             Sorting Algorithms\n",
      "             The Mailman and the Five Packages: Data Packets and Data Transfer Speed\n",
      "No transcript for https://blossoms.mit.edu/videos/lessons/mathematics_cryptography\n",
      "             The Mathematics of Cryptography\n",
      "             The Towers of Hanoi: Experiential Recursive Thinking\n",
      "         Processing TopicCluster: Pythagorean Theorem\n",
      "             Pythagoras and the Juice Seller\n",
      "             The Pythagorean Theorem: Geometry’s Most Elegant Theorem\n",
      "         A Never-Fail Method for Probabilistic Problems\n",
      "         Arabesque: Where Art Meets Mathematics\n",
      "         Averages: Still Flawed\n",
      "         Choosing a College Roommate: How Multi-Criteria Decision Modeling Can Help\n",
      "No transcript for https://blossoms.mit.edu/videos/lessons/complex_numbers_part_imaginary_really_simple\n",
      "         Complex Numbers: Part Imaginary, but Really Simple\n",
      "         Counting Systems\n",
      "         Fabulous Fractals and Difference Equations\n",
      "         Fantastic Factorials\n",
      "No transcript for https://blossoms.mit.edu/videos/lessons/fence_your_equation\n",
      "         Fence Your Equation\n",
      "         Flaws of Averages\n",
      "         Rational versus Irrational Numbers\n",
      "         The Art of Approximation in Science and Engineering: How to Whip Out Answers Quickly\n",
      "         The Mathematics of Voting\n",
      "         The Quadratic Equation: It’s Hip to Be Squared\n",
      "         Tragedy of the Commons\n",
      "         Why Pay More?\n",
      "\n",
      "     Processing Topic Physics\n",
      "         Processing TopicCluster: Newtonian Physics\n",
      "             Free Fall\n",
      "No transcript for https://blossoms.mit.edu/videos/lessons/gravity_work\n",
      "             Gravity at Work\n",
      "             How Mosquitoes Fly in the Rain\n",
      "             Physics of Donkey Carts\n",
      "             The Mystery of Motion: Momentum, Kinetic Energy and Their Conversion\n",
      "             The Physics of Boomerangs\n",
      "             The Physics of Pool\n",
      "         Processing TopicCluster: Astronomy\n",
      "             Galaxies and Dark Matter\n",
      "No transcript for https://blossoms.mit.edu/videos/lessons/gravity_assist_or_stealing_planets_angular_momentum_and_getting_away_it\n",
      "             Gravity Assist or Stealing a Planet's Angular Momentum and Getting Away With It\n",
      "             Measuring Distances in the Milky Way\n",
      "             The Parallax Activity: Measuring the Distances to Nearby Stars\n",
      "         Processing TopicCluster: Geometry\n",
      "             Measuring Distances in the Milky Way\n",
      "             The Parallax Activity: Measuring the Distances to Nearby Stars\n",
      "         Processing TopicCluster: Pythagorean Theorem\n",
      "             Measuring Distances in the Milky Way\n",
      "             The Parallax Activity: Measuring the Distances to Nearby Stars\n",
      "         Can Earthquakes Be Predicted?\n",
      "         Fingerprinting Gravity\n",
      "         Forces and Angles\n",
      "         Kite Flying: Fun, Art and Science\n",
      "         Soaring in The Wind: The Science of Kite Flying\n",
      "         Static Equilibrium\n",
      "         Static and Kinetic Friction Forces: Similarities and Differences\n",
      "         The Mysteries of Magnetism\n",
      "         The Physics of Racing Cars\n",
      "         The Science of Soap Bubbles\n",
      "         Uniform Circular Motion and Centrifugal Force\n",
      "         Will an Ice Cube Melt Faster in Freshwater or Saltwater?\n",
      "\n",
      "\n"
     ]
    }
   ],
   "source": [
    "# Explore all possible `lang_variant`s\n",
    "all_lang_variants = set()\n",
    "all_video_link_differences = []\n",
    "\n",
    "def process_lesson_resource(lesson_node, current_lang):\n",
    "    \"\"\"\n",
    "    Helper functions for degbugging and exploring content.\n",
    "    Run this once for \n",
    "    \"\"\"\n",
    "    video = MitBlossomsVideoLessonResource(lesson_node)\n",
    "    lang_variant_url_tuples = video.get_video_urls()\n",
    "    # CONTENT INFO 1: compile a list of all language variants\n",
    "    for lang_variant, url in lang_variant_url_tuples:\n",
    "        all_lang_variants.add(lang_variant)\n",
    "    # CONTENT INFO 2:\n",
    "    iframe_urls = set([v for v,u in video.get_video_urls()])\n",
    "    download_urls = set([v for v,u in video.get_video_urls_alt()])\n",
    "    if iframe_urls - download_urls or download_urls - iframe_urls:\n",
    "        diff = {}\n",
    "        diff['iframe_only'] = iframe_urls - download_urls\n",
    "        diff['download_only'] = download_urls - iframe_urls\n",
    "        diff['video_url'] = video.url\n",
    "        all_video_link_differences.append(diff)\n",
    "    #\n",
    "    #\n",
    "    video_url = video.get_video_url_for_lang(current_lang)\n",
    "    if not video_url:\n",
    "        print(\"NO video for\", current_lang, \"in\", video.url)\n",
    "    transcripts = video.get_transcripts()\n",
    "    if len(transcripts) == 0:\n",
    "        print(\"No transcript for\", video.url)\n",
    "    #     if len(transcripts) > 1:\n",
    "    #         print(\"Multiple transcripts for\", video.url)\n",
    "    #         print(transcripts)\n",
    "    #\n",
    "    # show us the zip\n",
    "    video.get_additional_resources_zip()\n",
    "\n",
    "\n",
    "def walk_resource_tree(web_resource_tree):\n",
    "    \"\"\"\n",
    "    Traverse walk_resource_tree and print out useful info (used for debugging).\n",
    "    \"\"\"\n",
    "    for lang_node in web_resource_tree['children']:\n",
    "        current_lang = lang_node['lang']\n",
    "        print(\"Processing language\", lang_node['lang'])\n",
    "\n",
    "        for topic_node in lang_node['children']:\n",
    "            print(\" \"*4, \"Processing Topic\", topic_node['title'])\n",
    "\n",
    "            for node in topic_node['children']:\n",
    "                if node['__class__'] == 'MitBlossomsTopicCluster':\n",
    "                    cluster_node = node\n",
    "                    print(\" \"*8, 'Processing TopicCluster:', cluster_node['title'])\n",
    "                    for lesson_node in cluster_node['children']:\n",
    "                        process_lesson_resource(lesson_node, current_lang)\n",
    "                        print(\" \"*12, lesson_node['title'])\n",
    "\n",
    "                elif node['__class__'] == 'MitBlossomsVideoLessonResource':\n",
    "                    lesson_node = node\n",
    "                    process_lesson_resource(lesson_node, current_lang)\n",
    "                    print(\" \"*8, lesson_node['title'])\n",
    "\n",
    "                else:\n",
    "                    raise ValueError('Unkonwn node type encounted.')\n",
    "            print()\n",
    "        print()\n",
    "\n",
    "walk_resource_tree(web_resource_tree)\n"
   ]
  },
  {
   "cell_type": "code",
   "execution_count": null,
   "metadata": {
    "collapsed": true,
    "scrolled": false
   },
   "outputs": [],
   "source": []
  },
  {
   "cell_type": "code",
   "execution_count": null,
   "metadata": {
    "collapsed": true
   },
   "outputs": [],
   "source": [
    "_ = scraping_step()"
   ]
  },
  {
   "cell_type": "code",
   "execution_count": null,
   "metadata": {
    "collapsed": true
   },
   "outputs": [],
   "source": []
  },
  {
   "cell_type": "code",
   "execution_count": null,
   "metadata": {
    "collapsed": true
   },
   "outputs": [],
   "source": []
  },
  {
   "cell_type": "code",
   "execution_count": null,
   "metadata": {
    "collapsed": true
   },
   "outputs": [],
   "source": []
  }
 ],
 "metadata": {
  "kernelspec": {
   "display_name": "Python 3",
   "language": "python",
   "name": "python3"
  },
  "language_info": {
   "codemirror_mode": {
    "name": "ipython",
    "version": 3
   },
   "file_extension": ".py",
   "mimetype": "text/x-python",
   "name": "python",
   "nbconvert_exporter": "python",
   "pygments_lexer": "ipython3",
   "version": "3.6.1"
  }
 },
 "nbformat": 4,
 "nbformat_minor": 2
}
